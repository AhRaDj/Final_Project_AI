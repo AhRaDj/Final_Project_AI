{
 "cells": [
  {
   "cell_type": "markdown",
   "metadata": {},
   "source": [
    "<h3>1. Import module yang dibutuhkan</h3>"
   ]
  },
  {
   "cell_type": "code",
   "execution_count": 168,
   "metadata": {},
   "outputs": [],
   "source": [
    "from sklearn.model_selection import train_test_split\n",
    "from sklearn.preprocessing import LabelEncoder\n",
    "from sklearn.metrics import classification_report\n",
    "from tensorflow.keras.models import Sequential\n",
    "from tensorflow.keras.layers import Flatten, Dense\n",
    "from tensorflow.keras.optimizers import SGD\n",
    "import numpy as np\n",
    "import cv2\n",
    "import glob\n",
    "import matplotlib.pyplot as plt"
   ]
  },
  {
   "cell_type": "markdown",
   "metadata": {},
   "source": [
    "<h3>2. Load Dataset</h3>"
   ]
  },
  {
   "cell_type": "code",
   "execution_count": 169,
   "metadata": {},
   "outputs": [],
   "source": [
    "imagePaths = 'Dataset\\\\'\n",
    "label_list = ['Belimbing Wuluh', 'Jambu Biji']\n",
    "data = []\n",
    "labels = []"
   ]
  },
  {
   "cell_type": "code",
   "execution_count": 170,
   "metadata": {},
   "outputs": [],
   "source": [
    "for label in label_list:\n",
    "    for imagePath in glob.glob(imagePaths+label+'\\\\*.jpg'):\n",
    "        #print(imagePath)\n",
    "        image = cv2.imread(imagePath)\n",
    "        image = cv2.resize(image, (32, 32))\n",
    "        data.append(image)\n",
    "        labels.append(label)"
   ]
  },
  {
   "cell_type": "code",
   "execution_count": 171,
   "metadata": {},
   "outputs": [
    {
     "data": {
      "text/plain": [
       "(100, 32, 32, 3)"
      ]
     },
     "execution_count": 171,
     "metadata": {},
     "output_type": "execute_result"
    }
   ],
   "source": [
    "np.array(data).shape"
   ]
  },
  {
   "cell_type": "markdown",
   "metadata": {},
   "source": [
    "<h3>3. Data Preprocessing</h3>"
   ]
  },
  {
   "cell_type": "code",
   "execution_count": 172,
   "metadata": {},
   "outputs": [],
   "source": [
    "# ubah type data dari list menjadi array\n",
    "# ubah nilai dari tiap pixel menjadi range [0..1]\n",
    "data = np.array(data, dtype='float') / 255.0\n",
    "labels = np.array(labels)"
   ]
  },
  {
   "cell_type": "code",
   "execution_count": 173,
   "metadata": {},
   "outputs": [
    {
     "name": "stdout",
     "output_type": "stream",
     "text": [
      "['Belimbing Wuluh' 'Belimbing Wuluh' 'Belimbing Wuluh' 'Belimbing Wuluh'\n",
      " 'Belimbing Wuluh' 'Belimbing Wuluh' 'Belimbing Wuluh' 'Belimbing Wuluh'\n",
      " 'Belimbing Wuluh' 'Belimbing Wuluh' 'Belimbing Wuluh' 'Belimbing Wuluh'\n",
      " 'Belimbing Wuluh' 'Belimbing Wuluh' 'Belimbing Wuluh' 'Belimbing Wuluh'\n",
      " 'Belimbing Wuluh' 'Belimbing Wuluh' 'Belimbing Wuluh' 'Belimbing Wuluh'\n",
      " 'Belimbing Wuluh' 'Belimbing Wuluh' 'Belimbing Wuluh' 'Belimbing Wuluh'\n",
      " 'Belimbing Wuluh' 'Belimbing Wuluh' 'Belimbing Wuluh' 'Belimbing Wuluh'\n",
      " 'Belimbing Wuluh' 'Belimbing Wuluh' 'Belimbing Wuluh' 'Belimbing Wuluh'\n",
      " 'Belimbing Wuluh' 'Belimbing Wuluh' 'Belimbing Wuluh' 'Belimbing Wuluh'\n",
      " 'Belimbing Wuluh' 'Belimbing Wuluh' 'Belimbing Wuluh' 'Belimbing Wuluh'\n",
      " 'Belimbing Wuluh' 'Belimbing Wuluh' 'Belimbing Wuluh' 'Belimbing Wuluh'\n",
      " 'Belimbing Wuluh' 'Belimbing Wuluh' 'Belimbing Wuluh' 'Belimbing Wuluh'\n",
      " 'Belimbing Wuluh' 'Belimbing Wuluh' 'Jambu Biji' 'Jambu Biji'\n",
      " 'Jambu Biji' 'Jambu Biji' 'Jambu Biji' 'Jambu Biji' 'Jambu Biji'\n",
      " 'Jambu Biji' 'Jambu Biji' 'Jambu Biji' 'Jambu Biji' 'Jambu Biji'\n",
      " 'Jambu Biji' 'Jambu Biji' 'Jambu Biji' 'Jambu Biji' 'Jambu Biji'\n",
      " 'Jambu Biji' 'Jambu Biji' 'Jambu Biji' 'Jambu Biji' 'Jambu Biji'\n",
      " 'Jambu Biji' 'Jambu Biji' 'Jambu Biji' 'Jambu Biji' 'Jambu Biji'\n",
      " 'Jambu Biji' 'Jambu Biji' 'Jambu Biji' 'Jambu Biji' 'Jambu Biji'\n",
      " 'Jambu Biji' 'Jambu Biji' 'Jambu Biji' 'Jambu Biji' 'Jambu Biji'\n",
      " 'Jambu Biji' 'Jambu Biji' 'Jambu Biji' 'Jambu Biji' 'Jambu Biji'\n",
      " 'Jambu Biji' 'Jambu Biji' 'Jambu Biji' 'Jambu Biji' 'Jambu Biji'\n",
      " 'Jambu Biji' 'Jambu Biji' 'Jambu Biji']\n"
     ]
    }
   ],
   "source": [
    "print(labels)"
   ]
  },
  {
   "cell_type": "code",
   "execution_count": 174,
   "metadata": {},
   "outputs": [
    {
     "name": "stdout",
     "output_type": "stream",
     "text": [
      "[0 0 0 0 0 0 0 0 0 0 0 0 0 0 0 0 0 0 0 0 0 0 0 0 0 0 0 0 0 0 0 0 0 0 0 0 0\n",
      " 0 0 0 0 0 0 0 0 0 0 0 0 0 1 1 1 1 1 1 1 1 1 1 1 1 1 1 1 1 1 1 1 1 1 1 1 1\n",
      " 1 1 1 1 1 1 1 1 1 1 1 1 1 1 1 1 1 1 1 1 1 1 1 1 1 1]\n"
     ]
    }
   ],
   "source": [
    "# ubah nilai dari labels menjadi binary\n",
    "lb = LabelEncoder()\n",
    "labels = lb.fit_transform(labels)\n",
    "print(labels)"
   ]
  },
  {
   "cell_type": "markdown",
   "metadata": {},
   "source": [
    "<h3>4. Split Dataset</h3>"
   ]
  },
  {
   "cell_type": "code",
   "execution_count": 175,
   "metadata": {},
   "outputs": [],
   "source": [
    "x_train, x_test, y_train, y_test = train_test_split(data, labels, test_size=0.25, random_state=42)"
   ]
  },
  {
   "cell_type": "code",
   "execution_count": 176,
   "metadata": {},
   "outputs": [
    {
     "name": "stdout",
     "output_type": "stream",
     "text": [
      "Ukuran data train = (75, 32, 32, 3)\n",
      "Ukuran data test = (25, 32, 32, 3)\n"
     ]
    }
   ],
   "source": [
    "print('Ukuran data train =', x_train.shape)\n",
    "print('Ukuran data test =', x_test.shape)"
   ]
  },
  {
   "cell_type": "markdown",
   "metadata": {},
   "source": [
    "<h3>5. Build ANN Architecture</h3>"
   ]
  },
  {
   "cell_type": "code",
   "execution_count": 187,
   "metadata": {},
   "outputs": [],
   "source": [
    "# buat ANN dengan arsitektur input layer (3072) - hidden layer (512) - hidden layer (1024) - output layer (3)\n",
    "model = Sequential()\n",
    "model.add(Flatten(input_shape=(32,32,3)))\n",
    "model.add(Dense(1024, activation=\"relu\"))\n",
    "model.add(Dense(1024, activation=\"relu\"))\n",
    "model.add(Dense(1, activation=\"sigmoid\"))"
   ]
  },
  {
   "cell_type": "code",
   "execution_count": 188,
   "metadata": {},
   "outputs": [
    {
     "name": "stdout",
     "output_type": "stream",
     "text": [
      "Model: \"sequential_7\"\n",
      "_________________________________________________________________\n",
      " Layer (type)                Output Shape              Param #   \n",
      "=================================================================\n",
      " flatten_4 (Flatten)         (None, 3072)              0         \n",
      "                                                                 \n",
      " dense_18 (Dense)            (None, 1024)              3146752   \n",
      "                                                                 \n",
      " dense_19 (Dense)            (None, 1024)              1049600   \n",
      "                                                                 \n",
      " dense_20 (Dense)            (None, 1)                 1025      \n",
      "                                                                 \n",
      "=================================================================\n",
      "Total params: 4,197,377\n",
      "Trainable params: 4,197,377\n",
      "Non-trainable params: 0\n",
      "_________________________________________________________________\n"
     ]
    }
   ],
   "source": [
    "model.summary()"
   ]
  },
  {
   "cell_type": "code",
   "execution_count": 189,
   "metadata": {},
   "outputs": [],
   "source": [
    "# tentukan hyperparameter\n",
    "lr = 0.01\n",
    "max_epochs = 50\n",
    "opt_funct = SGD(learning_rate=lr)"
   ]
  },
  {
   "cell_type": "code",
   "execution_count": 190,
   "metadata": {},
   "outputs": [],
   "source": [
    "# compile arsitektur yang telah dibuat\n",
    "model.compile(loss = 'binary_crossentropy', \n",
    "              optimizer = opt_funct, \n",
    "              metrics = ['accuracy'])"
   ]
  },
  {
   "cell_type": "markdown",
   "metadata": {},
   "source": [
    "<h3>6. Train Model</h3>"
   ]
  },
  {
   "cell_type": "code",
   "execution_count": 191,
   "metadata": {},
   "outputs": [
    {
     "name": "stdout",
     "output_type": "stream",
     "text": [
      "Epoch 1/50\n",
      "3/3 [==============================] - 0s 51ms/step - loss: 0.8789 - accuracy: 0.4267 - val_loss: 1.5187 - val_accuracy: 0.4400\n",
      "Epoch 2/50\n",
      "3/3 [==============================] - 0s 19ms/step - loss: 1.1421 - accuracy: 0.5467 - val_loss: 0.5674 - val_accuracy: 0.6400\n",
      "Epoch 3/50\n",
      "3/3 [==============================] - 0s 18ms/step - loss: 0.6069 - accuracy: 0.5333 - val_loss: 0.7475 - val_accuracy: 0.4400\n",
      "Epoch 4/50\n",
      "3/3 [==============================] - 0s 18ms/step - loss: 1.0073 - accuracy: 0.4667 - val_loss: 0.7584 - val_accuracy: 0.4400\n",
      "Epoch 5/50\n",
      "3/3 [==============================] - 0s 20ms/step - loss: 0.5704 - accuracy: 0.5600 - val_loss: 0.4643 - val_accuracy: 0.8800\n",
      "Epoch 6/50\n",
      "3/3 [==============================] - 0s 18ms/step - loss: 0.5263 - accuracy: 0.6667 - val_loss: 0.8444 - val_accuracy: 0.4400\n",
      "Epoch 7/50\n",
      "3/3 [==============================] - 0s 19ms/step - loss: 0.7658 - accuracy: 0.4667 - val_loss: 0.9960 - val_accuracy: 0.5600\n",
      "Epoch 8/50\n",
      "3/3 [==============================] - 0s 20ms/step - loss: 0.8850 - accuracy: 0.5067 - val_loss: 0.4224 - val_accuracy: 0.8800\n",
      "Epoch 9/50\n",
      "3/3 [==============================] - 0s 19ms/step - loss: 0.4351 - accuracy: 0.8800 - val_loss: 0.6907 - val_accuracy: 0.5200\n",
      "Epoch 10/50\n",
      "3/3 [==============================] - 0s 19ms/step - loss: 0.4503 - accuracy: 0.7467 - val_loss: 0.6179 - val_accuracy: 0.5200\n",
      "Epoch 11/50\n",
      "3/3 [==============================] - 0s 19ms/step - loss: 0.5547 - accuracy: 0.5867 - val_loss: 0.6398 - val_accuracy: 0.5600\n",
      "Epoch 12/50\n",
      "3/3 [==============================] - 0s 19ms/step - loss: 0.4727 - accuracy: 0.8133 - val_loss: 0.5191 - val_accuracy: 0.6800\n",
      "Epoch 13/50\n",
      "3/3 [==============================] - 0s 20ms/step - loss: 0.4559 - accuracy: 0.7467 - val_loss: 0.3337 - val_accuracy: 0.9600\n",
      "Epoch 14/50\n",
      "3/3 [==============================] - 0s 19ms/step - loss: 0.3400 - accuracy: 0.9733 - val_loss: 0.4728 - val_accuracy: 0.6000\n",
      "Epoch 15/50\n",
      "3/3 [==============================] - 0s 20ms/step - loss: 0.3490 - accuracy: 0.8400 - val_loss: 0.2712 - val_accuracy: 0.9600\n",
      "Epoch 16/50\n",
      "3/3 [==============================] - 0s 20ms/step - loss: 0.3397 - accuracy: 0.9333 - val_loss: 0.6822 - val_accuracy: 0.5200\n",
      "Epoch 17/50\n",
      "3/3 [==============================] - 0s 20ms/step - loss: 0.5574 - accuracy: 0.6133 - val_loss: 0.2589 - val_accuracy: 0.9600\n",
      "Epoch 18/50\n",
      "3/3 [==============================] - 0s 19ms/step - loss: 0.2799 - accuracy: 0.9733 - val_loss: 0.4057 - val_accuracy: 0.8000\n",
      "Epoch 19/50\n",
      "3/3 [==============================] - 0s 18ms/step - loss: 0.4417 - accuracy: 0.7600 - val_loss: 0.3428 - val_accuracy: 0.8800\n",
      "Epoch 20/50\n",
      "3/3 [==============================] - 0s 19ms/step - loss: 0.3228 - accuracy: 0.8533 - val_loss: 0.2180 - val_accuracy: 0.9600\n",
      "Epoch 21/50\n",
      "3/3 [==============================] - 0s 19ms/step - loss: 0.2498 - accuracy: 0.9600 - val_loss: 0.2146 - val_accuracy: 0.9600\n",
      "Epoch 22/50\n",
      "3/3 [==============================] - 0s 18ms/step - loss: 0.2263 - accuracy: 0.9733 - val_loss: 0.2012 - val_accuracy: 0.9600\n",
      "Epoch 23/50\n",
      "3/3 [==============================] - 0s 19ms/step - loss: 0.2046 - accuracy: 0.9867 - val_loss: 0.1867 - val_accuracy: 1.0000\n",
      "Epoch 24/50\n",
      "3/3 [==============================] - 0s 19ms/step - loss: 0.1878 - accuracy: 0.9867 - val_loss: 0.2272 - val_accuracy: 0.9600\n",
      "Epoch 25/50\n",
      "3/3 [==============================] - 0s 24ms/step - loss: 0.2244 - accuracy: 0.9733 - val_loss: 0.1733 - val_accuracy: 0.9600\n",
      "Epoch 26/50\n",
      "3/3 [==============================] - 0s 20ms/step - loss: 0.1834 - accuracy: 0.9867 - val_loss: 0.1767 - val_accuracy: 0.9600\n",
      "Epoch 27/50\n",
      "3/3 [==============================] - 0s 19ms/step - loss: 0.1711 - accuracy: 0.9867 - val_loss: 0.1559 - val_accuracy: 1.0000\n",
      "Epoch 28/50\n",
      "3/3 [==============================] - 0s 20ms/step - loss: 0.1593 - accuracy: 0.9867 - val_loss: 0.1538 - val_accuracy: 1.0000\n",
      "Epoch 29/50\n",
      "3/3 [==============================] - 0s 18ms/step - loss: 0.1608 - accuracy: 0.9867 - val_loss: 0.2607 - val_accuracy: 0.9200\n",
      "Epoch 30/50\n",
      "3/3 [==============================] - 0s 19ms/step - loss: 0.2606 - accuracy: 0.9333 - val_loss: 0.1419 - val_accuracy: 1.0000\n",
      "Epoch 31/50\n",
      "3/3 [==============================] - 0s 20ms/step - loss: 0.1574 - accuracy: 0.9867 - val_loss: 0.2716 - val_accuracy: 0.8800\n",
      "Epoch 32/50\n",
      "3/3 [==============================] - 0s 19ms/step - loss: 0.1457 - accuracy: 0.9600 - val_loss: 0.1391 - val_accuracy: 0.9600\n",
      "Epoch 33/50\n",
      "3/3 [==============================] - 0s 18ms/step - loss: 0.1318 - accuracy: 0.9867 - val_loss: 0.1330 - val_accuracy: 0.9600\n",
      "Epoch 34/50\n",
      "3/3 [==============================] - 0s 20ms/step - loss: 0.1358 - accuracy: 0.9867 - val_loss: 0.2433 - val_accuracy: 0.9200\n",
      "Epoch 35/50\n",
      "3/3 [==============================] - 0s 18ms/step - loss: 0.2852 - accuracy: 0.8800 - val_loss: 0.3326 - val_accuracy: 0.8000\n",
      "Epoch 36/50\n",
      "3/3 [==============================] - 0s 18ms/step - loss: 0.3588 - accuracy: 0.8000 - val_loss: 0.6318 - val_accuracy: 0.6000\n",
      "Epoch 37/50\n",
      "3/3 [==============================] - 0s 18ms/step - loss: 0.3898 - accuracy: 0.8133 - val_loss: 0.1172 - val_accuracy: 1.0000\n",
      "Epoch 38/50\n",
      "3/3 [==============================] - 0s 18ms/step - loss: 0.1242 - accuracy: 0.9867 - val_loss: 0.1130 - val_accuracy: 1.0000\n",
      "Epoch 39/50\n",
      "3/3 [==============================] - 0s 19ms/step - loss: 0.1189 - accuracy: 0.9867 - val_loss: 0.2919 - val_accuracy: 0.8800\n",
      "Epoch 40/50\n",
      "3/3 [==============================] - 0s 19ms/step - loss: 0.5010 - accuracy: 0.6533 - val_loss: 0.3132 - val_accuracy: 0.8400\n",
      "Epoch 41/50\n",
      "3/3 [==============================] - 0s 23ms/step - loss: 0.2460 - accuracy: 0.8800 - val_loss: 0.1064 - val_accuracy: 1.0000\n",
      "Epoch 42/50\n",
      "3/3 [==============================] - 0s 18ms/step - loss: 0.1068 - accuracy: 0.9867 - val_loss: 0.1352 - val_accuracy: 0.9600\n",
      "Epoch 43/50\n",
      "3/3 [==============================] - 0s 18ms/step - loss: 0.1051 - accuracy: 0.9867 - val_loss: 0.1044 - val_accuracy: 1.0000\n",
      "Epoch 44/50\n",
      "3/3 [==============================] - 0s 17ms/step - loss: 0.1001 - accuracy: 0.9867 - val_loss: 0.0997 - val_accuracy: 1.0000\n",
      "Epoch 45/50\n",
      "3/3 [==============================] - 0s 18ms/step - loss: 0.1099 - accuracy: 0.9867 - val_loss: 0.1591 - val_accuracy: 0.9600\n",
      "Epoch 46/50\n",
      "3/3 [==============================] - 0s 18ms/step - loss: 0.1176 - accuracy: 0.9733 - val_loss: 0.0975 - val_accuracy: 1.0000\n",
      "Epoch 47/50\n",
      "3/3 [==============================] - 0s 18ms/step - loss: 0.0953 - accuracy: 0.9867 - val_loss: 0.1034 - val_accuracy: 0.9600\n",
      "Epoch 48/50\n",
      "3/3 [==============================] - 0s 19ms/step - loss: 0.0941 - accuracy: 0.9867 - val_loss: 0.0875 - val_accuracy: 1.0000\n",
      "Epoch 49/50\n",
      "3/3 [==============================] - 0s 19ms/step - loss: 0.0896 - accuracy: 0.9867 - val_loss: 0.0837 - val_accuracy: 1.0000\n",
      "Epoch 50/50\n",
      "3/3 [==============================] - 0s 18ms/step - loss: 0.0841 - accuracy: 0.9867 - val_loss: 0.1076 - val_accuracy: 0.9600\n"
     ]
    }
   ],
   "source": [
    "H = model.fit(x_train, y_train, validation_data=(x_test, y_test), \n",
    "          epochs=max_epochs, batch_size=32)"
   ]
  },
  {
   "cell_type": "code",
   "execution_count": 192,
   "metadata": {},
   "outputs": [
    {
     "data": {
      "image/png": "[encoded data removed]",
      "text/plain": [
       "<Figure size 432x288 with 1 Axes>"
      ]
     },
     "metadata": {},
     "output_type": "display_data"
    }
   ],
   "source": [
    "N = np.arange(0, max_epochs)\n",
    "plt.style.use(\"ggplot\")\n",
    "plt.figure()\n",
    "plt.plot(N, H.history[\"loss\"], label=\"train_loss\")\n",
    "plt.plot(N, H.history[\"val_loss\"], label=\"val_loss\")\n",
    "#plt.plot(N, H.history[\"accuracy\"], label=\"train_acc\")\n",
    "#plt.plot(N, H.history[\"val_accuracy\"], label=\"val_acc\")\n",
    "plt.xlabel(\"Epoch #\")\n",
    "plt.legend()\n",
    "plt.show()"
   ]
  },
  {
   "cell_type": "markdown",
   "metadata": {},
   "source": [
    "<h3>7. Evaluate the Model</h3>"
   ]
  },
  {
   "cell_type": "code",
   "execution_count": 193,
   "metadata": {},
   "outputs": [
    {
     "name": "stdout",
     "output_type": "stream",
     "text": [
      "                 precision    recall  f1-score   support\n",
      "\n",
      "Belimbing Wuluh       1.00      0.93      0.96        14\n",
      "     Jambu Biji       0.92      1.00      0.96        11\n",
      "\n",
      "       accuracy                           0.96        25\n",
      "      macro avg       0.96      0.96      0.96        25\n",
      "   weighted avg       0.96      0.96      0.96        25\n",
      "\n"
     ]
    }
   ],
   "source": [
    "# menghitung nilai akurasi model terhadap data test\n",
    "predictions = model.predict(x_test, batch_size=32)\n",
    "target = (predictions > 0.5).astype(np.float64)\n",
    "print(classification_report(y_test, target, target_names=label_list))"
   ]
  },
  {
   "cell_type": "code",
   "execution_count": 206,
   "metadata": {},
   "outputs": [
    {
     "name": "stdout",
     "output_type": "stream",
     "text": [
      "[[0.07067153]]\n"
     ]
    }
   ],
   "source": [
    "# uji model menggunakan image lain\n",
    "queryPath = imagePaths+'query_belimbing_wuluh2.jpg'\n",
    "query = cv2.imread(queryPath)\n",
    "output = query.copy()\n",
    "query = cv2.resize(query, (32, 32))\n",
    "q = []\n",
    "q.append(query)\n",
    "q = np.array(q, dtype='float') / 255.0\n",
    "\n",
    "q_pred = model.predict(q)\n",
    "i = q_pred.argmax(axis=1)[0]\n",
    "label = lb.classes_[i]\n",
    "print(q_pred)"
   ]
  },
  {
   "cell_type": "code",
   "execution_count": 207,
   "metadata": {},
   "outputs": [],
   "source": [
    "if q_pred<=0.5 :\n",
    "    target = \"Belimbing Wuluh\"\n",
    "else :\n",
    "    target = \"Jambu Biji\"\n",
    "text = \"{}: {:.2f}%\".format(target, q_pred[0][i] * 100)\n",
    "cv2.putText(output, text, (10, 30), cv2.FONT_HERSHEY_SIMPLEX, 0.7, (0, 0, 255), 2)\n",
    " \n",
    "# menampilkan output image\n",
    "cv2.imshow('Output', output)\n",
    "cv2.waitKey() # image tidak akan diclose,sebelum user menekan sembarang tombol\n",
    "cv2.destroyWindow('Output') # image akan diclose"
   ]
  },
  {
   "cell_type": "code",
   "execution_count": null,
   "metadata": {},
   "outputs": [],
   "source": []
  }
 ],
 "metadata": {
  "interpreter": {
   "hash": "78747d644d675d600c28138aef48066205e3f455cf2ae7a0979d4417f4f933cc"
  },
  "kernelspec": {
   "display_name": "Python 3.9.7 64-bit",
   "name": "python3"
  },
  "language_info": {
   "codemirror_mode": {
    "name": "ipython",
    "version": 3
   },
   "file_extension": ".py",
   "mimetype": "text/x-python",
   "name": "python",
   "nbconvert_exporter": "python",
   "pygments_lexer": "ipython3",
   "version": "3.9.7"
  }
 },
 "nbformat": 4,
 "nbformat_minor": 4
}
